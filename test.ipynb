{
 "cells": [
  {
   "cell_type": "code",
   "execution_count": 2,
   "metadata": {},
   "outputs": [],
   "source": [
    "import logging\n",
    "\n",
    "from cassandra.cluster import Cluster\n",
    "from pyspark.sql import SparkSession\n",
    "from pyspark.sql.functions import from_json, col\n",
    "from pyspark.sql.types import StructType, StructField, StringType\n"
   ]
  },
  {
   "cell_type": "code",
   "execution_count": 3,
   "metadata": {},
   "outputs": [],
   "source": [
    "def create_spark_connection():\n",
    "    s_conn = None\n",
    "\n",
    "    try:\n",
    "        s_conn = SparkSession.builder \\\n",
    "            .appName('SparkDataStreaming') \\\n",
    "            .config('spark.jars.packages', \"com.datastax.spark:spark-cassandra-connector_2.12:3.4.1,\"\n",
    "                                           \"org.apache.spark:spark-sql-kafka-0-10_2.12:3.4.1\") \\\n",
    "            .config('spark.cassandra.connection.host', 'localhost') \\\n",
    "            .getOrCreate()\n",
    "        \n",
    "        s_conn.sparkContext.setLogLevel(\"ERROR\")\n",
    "        logging.info(\"Spark connection created successfully!\")\n",
    "    except Exception as e:\n",
    "        logging.error(f\"Couldn't create the spark session due to exception {e}\")\n",
    "\n",
    "    return s_conn\n",
    "\n",
    "spark_conn = create_spark_connection()"
   ]
  },
  {
   "cell_type": "code",
   "execution_count": 4,
   "metadata": {},
   "outputs": [
    {
     "data": {
      "text/html": [
       "\n",
       "            <div>\n",
       "                <p><b>SparkSession - in-memory</b></p>\n",
       "                \n",
       "        <div>\n",
       "            <p><b>SparkContext</b></p>\n",
       "\n",
       "            <p><a href=\"http://tandat17z:4040\">Spark UI</a></p>\n",
       "\n",
       "            <dl>\n",
       "              <dt>Version</dt>\n",
       "                <dd><code>v3.5.3</code></dd>\n",
       "              <dt>Master</dt>\n",
       "                <dd><code>local[*]</code></dd>\n",
       "              <dt>AppName</dt>\n",
       "                <dd><code>SparkDataStreaming</code></dd>\n",
       "            </dl>\n",
       "        </div>\n",
       "        \n",
       "            </div>\n",
       "        "
      ],
      "text/plain": [
       "<pyspark.sql.session.SparkSession at 0x26df3aae510>"
      ]
     },
     "execution_count": 4,
     "metadata": {},
     "output_type": "execute_result"
    }
   ],
   "source": [
    "spark_conn"
   ]
  },
  {
   "cell_type": "code",
   "execution_count": 5,
   "metadata": {},
   "outputs": [],
   "source": [
    "def connect_to_kafka(spark_conn):\n",
    "    spark_df = None\n",
    "    try:\n",
    "        spark_df = spark_conn.readStream \\\n",
    "            .format('kafka') \\\n",
    "            .option('kafka.bootstrap.servers', 'localhost:9092') \\\n",
    "            .option('subscribe', 'users_created') \\\n",
    "            .load()\n",
    "        logging.info(\"kafka dataframe created successfully\")\n",
    "    except Exception as e:\n",
    "        logging.warning(f\"kafka dataframe could not be created because: {e}\")\n",
    "\n",
    "    return spark_df\n",
    "spark_df = connect_to_kafka(spark_conn)"
   ]
  },
  {
   "cell_type": "code",
   "execution_count": 6,
   "metadata": {},
   "outputs": [
    {
     "data": {
      "text/plain": [
       "DataFrame[key: binary, value: binary, topic: string, partition: int, offset: bigint, timestamp: timestamp, timestampType: int]"
      ]
     },
     "execution_count": 6,
     "metadata": {},
     "output_type": "execute_result"
    }
   ],
   "source": [
    "spark_df"
   ]
  },
  {
   "cell_type": "code",
   "execution_count": 8,
   "metadata": {},
   "outputs": [
    {
     "data": {
      "text/plain": [
       "DataFrame[id: string, first_name: string, last_name: string, gender: string, address: string, post_code: string, email: string, username: string, registered_date: string, phone: string, picture: string]"
      ]
     },
     "execution_count": 8,
     "metadata": {},
     "output_type": "execute_result"
    }
   ],
   "source": [
    "def create_selection_df_from_kafka(spark_df):\n",
    "    schema = StructType([\n",
    "        StructField(\"id\", StringType(), False),\n",
    "        StructField(\"first_name\", StringType(), False),\n",
    "        StructField(\"last_name\", StringType(), False),\n",
    "        StructField(\"gender\", StringType(), False),\n",
    "        StructField(\"address\", StringType(), False),\n",
    "        StructField(\"post_code\", StringType(), False),\n",
    "        StructField(\"email\", StringType(), False),\n",
    "        StructField(\"username\", StringType(), False),\n",
    "        StructField(\"registered_date\", StringType(), False),\n",
    "        StructField(\"phone\", StringType(), False),\n",
    "        StructField(\"picture\", StringType(), False)\n",
    "    ])\n",
    "\n",
    "    sel = spark_df.selectExpr(\"CAST(value AS STRING)\") \\\n",
    "        .select(from_json(col('value'), schema).alias('data')).select(\"data.*\")\n",
    "\n",
    "    return sel\n",
    "selection_df = create_selection_df_from_kafka(spark_df)\n",
    "selection_df"
   ]
  },
  {
   "cell_type": "code",
   "execution_count": 11,
   "metadata": {},
   "outputs": [
    {
     "name": "stderr",
     "output_type": "stream",
     "text": [
      "WARNING:cassandra.cluster:Cluster.__init__ called with contact_points specified, but no load_balancing_policy. In the next major version, this will raise an error; please specify a load-balancing policy. (contact_points = ['localhost'], lbp = None)\n",
      "WARNING:cassandra.cluster:[control connection] Error connecting to 127.0.0.1:9042:\n",
      "Traceback (most recent call last):\n",
      "  File \"c:\\Users\\letan\\anaconda3\\envs\\envE2Eprj\\Lib\\site-packages\\cassandra\\cluster.py\", line 3577, in _reconnect_internal\n",
      "    return self._try_connect(host)\n",
      "           ^^^^^^^^^^^^^^^^^^^^^^^\n",
      "  File \"c:\\Users\\letan\\anaconda3\\envs\\envE2Eprj\\Lib\\site-packages\\cassandra\\cluster.py\", line 3599, in _try_connect\n",
      "    connection = self._cluster.connection_factory(host.endpoint, is_control_connection=True)\n",
      "                 ^^^^^^^^^^^^^^^^^^^^^^^^^^^^^^^^^^^^^^^^^^^^^^^^^^^^^^^^^^^^^^^^^^^^^^^^^^^\n",
      "  File \"c:\\Users\\letan\\anaconda3\\envs\\envE2Eprj\\Lib\\site-packages\\cassandra\\cluster.py\", line 1670, in connection_factory\n",
      "    return self.connection_class.factory(endpoint, self.connect_timeout, *args, **kwargs)\n",
      "           ^^^^^^^^^^^^^^^^^^^^^^^^^^^^^^^^^^^^^^^^^^^^^^^^^^^^^^^^^^^^^^^^^^^^^^^^^^^^^^\n",
      "  File \"c:\\Users\\letan\\anaconda3\\envs\\envE2Eprj\\Lib\\site-packages\\cassandra\\connection.py\", line 846, in factory\n",
      "    conn = cls(endpoint, *args, **kwargs)\n",
      "           ^^^^^^^^^^^^^^^^^^^^^^^^^^^^^^\n",
      "  File \"c:\\Users\\letan\\anaconda3\\envs\\envE2Eprj\\Lib\\site-packages\\cassandra\\io\\asyncorereactor.py\", line 353, in __init__\n",
      "    self._connect_socket()\n",
      "  File \"c:\\Users\\letan\\anaconda3\\envs\\envE2Eprj\\Lib\\site-packages\\cassandra\\connection.py\", line 951, in _connect_socket\n",
      "    raise socket.error(sockerr.errno, \"Tried connecting to %s. Last error: %s\" %\n",
      "ConnectionRefusedError: [Errno 10061] Tried connecting to [('127.0.0.1', 9042)]. Last error: No connection could be made because the target machine actively refused it\n",
      "WARNING:cassandra.cluster:[control connection] Error connecting to ::1:9042:\n",
      "Traceback (most recent call last):\n",
      "  File \"c:\\Users\\letan\\anaconda3\\envs\\envE2Eprj\\Lib\\site-packages\\cassandra\\cluster.py\", line 3577, in _reconnect_internal\n",
      "    return self._try_connect(host)\n",
      "           ^^^^^^^^^^^^^^^^^^^^^^^\n",
      "  File \"c:\\Users\\letan\\anaconda3\\envs\\envE2Eprj\\Lib\\site-packages\\cassandra\\cluster.py\", line 3599, in _try_connect\n",
      "    connection = self._cluster.connection_factory(host.endpoint, is_control_connection=True)\n",
      "                 ^^^^^^^^^^^^^^^^^^^^^^^^^^^^^^^^^^^^^^^^^^^^^^^^^^^^^^^^^^^^^^^^^^^^^^^^^^^\n",
      "  File \"c:\\Users\\letan\\anaconda3\\envs\\envE2Eprj\\Lib\\site-packages\\cassandra\\cluster.py\", line 1670, in connection_factory\n",
      "    return self.connection_class.factory(endpoint, self.connect_timeout, *args, **kwargs)\n",
      "           ^^^^^^^^^^^^^^^^^^^^^^^^^^^^^^^^^^^^^^^^^^^^^^^^^^^^^^^^^^^^^^^^^^^^^^^^^^^^^^\n",
      "  File \"c:\\Users\\letan\\anaconda3\\envs\\envE2Eprj\\Lib\\site-packages\\cassandra\\connection.py\", line 846, in factory\n",
      "    conn = cls(endpoint, *args, **kwargs)\n",
      "           ^^^^^^^^^^^^^^^^^^^^^^^^^^^^^^\n",
      "  File \"c:\\Users\\letan\\anaconda3\\envs\\envE2Eprj\\Lib\\site-packages\\cassandra\\io\\asyncorereactor.py\", line 353, in __init__\n",
      "    self._connect_socket()\n",
      "  File \"c:\\Users\\letan\\anaconda3\\envs\\envE2Eprj\\Lib\\site-packages\\cassandra\\connection.py\", line 951, in _connect_socket\n",
      "    raise socket.error(sockerr.errno, \"Tried connecting to %s. Last error: %s\" %\n",
      "ConnectionRefusedError: [Errno 10061] Tried connecting to [('::1', 9042, 0, 0)]. Last error: No connection could be made because the target machine actively refused it\n",
      "ERROR:cassandra.cluster:Control connection failed to connect, shutting down Cluster:\n",
      "Traceback (most recent call last):\n",
      "  File \"c:\\Users\\letan\\anaconda3\\envs\\envE2Eprj\\Lib\\site-packages\\cassandra\\cluster.py\", line 1740, in connect\n",
      "    self.control_connection.connect()\n",
      "  File \"c:\\Users\\letan\\anaconda3\\envs\\envE2Eprj\\Lib\\site-packages\\cassandra\\cluster.py\", line 3543, in connect\n",
      "    self._set_new_connection(self._reconnect_internal())\n",
      "                             ^^^^^^^^^^^^^^^^^^^^^^^^^^\n",
      "  File \"c:\\Users\\letan\\anaconda3\\envs\\envE2Eprj\\Lib\\site-packages\\cassandra\\cluster.py\", line 3588, in _reconnect_internal\n",
      "    raise NoHostAvailable(\"Unable to connect to any servers\", errors)\n",
      "cassandra.cluster.NoHostAvailable: ('Unable to connect to any servers', {'127.0.0.1:9042': ConnectionRefusedError(10061, \"Tried connecting to [('127.0.0.1', 9042)]. Last error: No connection could be made because the target machine actively refused it\"), '::1:9042': ConnectionRefusedError(10061, \"Tried connecting to [('::1', 9042, 0, 0)]. Last error: No connection could be made because the target machine actively refused it\")})\n",
      "ERROR:root:Could not create cassandra connection due to ('Unable to connect to any servers', {'127.0.0.1:9042': ConnectionRefusedError(10061, \"Tried connecting to [('127.0.0.1', 9042)]. Last error: No connection could be made because the target machine actively refused it\"), '::1:9042': ConnectionRefusedError(10061, \"Tried connecting to [('::1', 9042, 0, 0)]. Last error: No connection could be made because the target machine actively refused it\")})\n"
     ]
    }
   ],
   "source": [
    "def create_cassandra_connection():\n",
    "    try:\n",
    "        # connecting to the cassandra cluster\n",
    "        cluster = Cluster(['localhost'])\n",
    "\n",
    "        cas_session = cluster.connect()\n",
    "\n",
    "        return cas_session\n",
    "    except Exception as e:\n",
    "        logging.error(f\"Could not create cassandra connection due to {e}\")\n",
    "        return None\n",
    "\n",
    "session = create_cassandra_connection()\n",
    "session"
   ]
  },
  {
   "cell_type": "code",
   "execution_count": null,
   "metadata": {},
   "outputs": [],
   "source": []
  }
 ],
 "metadata": {
  "kernelspec": {
   "display_name": "envE2Eprj",
   "language": "python",
   "name": "python3"
  },
  "language_info": {
   "codemirror_mode": {
    "name": "ipython",
    "version": 3
   },
   "file_extension": ".py",
   "mimetype": "text/x-python",
   "name": "python",
   "nbconvert_exporter": "python",
   "pygments_lexer": "ipython3",
   "version": "3.11.10"
  }
 },
 "nbformat": 4,
 "nbformat_minor": 2
}
